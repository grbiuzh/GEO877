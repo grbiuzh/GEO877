{
 "cells": [
  {
   "cell_type": "markdown",
   "metadata": {},
   "source": [
    "# GEO877: Spatial Algorithms\n",
    "\n",
    "# Project: Gazetteer comparison Marine Regions and GeoNames\n"
   ]
  },
  {
   "cell_type": "code",
   "execution_count": 3,
   "metadata": {},
   "outputs": [
    {
     "name": "stdout",
     "output_type": "stream",
     "text": [
      "Gazetteers.ipynb \u001b[34mPresentation\u001b[m\u001b[m     allCountries.txt\n",
      "Gazetteers.py    README.md\n"
     ]
    },
    {
     "data": {
      "text/plain": [
       "'https://geo.vliz.be/geoserver/MarineRegions/wfs'"
      ]
     },
     "execution_count": 3,
     "metadata": {},
     "output_type": "execute_result"
    }
   ],
   "source": [
    "import geocoder\n",
    "import numpy as np\n",
    "import matplotlib as mat\n",
    "from pyprojroot import here\n",
    "import json\n",
    "\n",
    "#GeoNames access\n",
    "key = \"me_toponymboy\"\n",
    "here()\n",
    "!ls ../GEO877\n",
    "\n",
    "# Marine Regions Data\n",
    "\"https://geo.vliz.be/geoserver/MarineRegions/wfs\"\n"
   ]
  },
  {
   "cell_type": "code",
   "execution_count": null,
   "metadata": {},
   "outputs": [],
   "source": [
    "#Data import Marine Regions\n"
   ]
  },
  {
   "cell_type": "markdown",
   "metadata": {},
   "source": [
    "Metadata for GeoNames gazetteer:\n",
    "\n",
    "The main 'geoname' table has the following fields :\n",
    "---------------------------------------------------\n",
    "geonameid         : integer id of record in geonames database\n",
    "name              : name of geographical point (utf8) varchar(200)\n",
    "asciiname         : name of geographical point in plain ascii characters, varchar(200)\n",
    "alternatenames    : alternatenames, comma separated, ascii names automatically transliterated, convenience attribute from alternatename table, varchar(10000)\n",
    "latitude          : latitude in decimal degrees (wgs84)\n",
    "longitude         : longitude in decimal degrees (wgs84)\n",
    "feature class     : see http://www.geonames.org/export/codes.html, char(1)\n",
    "feature code      : see http://www.geonames.org/export/codes.html, varchar(10)\n",
    "country code      : ISO-3166 2-letter country code, 2 characters\n",
    "cc2               : alternate country codes, comma separated, ISO-3166 2-letter country code, 200 characters\n",
    "admin1 code       : fipscode (subject to change to iso code), see exceptions below, see file admin1Codes.txt for display names of this code; varchar(20)\n",
    "admin2 code       : code for the second administrative division, a county in the US, see file admin2Codes.txt; varchar(80) \n",
    "admin3 code       : code for third level administrative division, varchar(20)\n",
    "admin4 code       : code for fourth level administrative division, varchar(20)\n",
    "population        : bigint (8 byte int) \n",
    "elevation         : in meters, integer\n",
    "dem               : digital elevation model, srtm3 or gtopo30, average elevation of 3''x3'' (ca 90mx90m) or 30''x30'' (ca 900mx900m) area in meters, integer. srtm processed by cgiar/ciat.\n",
    "timezone          : the iana timezone id (see file timeZone.txt) varchar(40)\n",
    "modification date : date of last modification in yyyy-MM-dd format\n"
   ]
  },
  {
   "cell_type": "code",
   "execution_count": 6,
   "metadata": {},
   "outputs": [
    {
     "name": "stderr",
     "output_type": "stream",
     "text": [
      "IOStream.flush timed out\n"
     ]
    }
   ],
   "source": [
    "# Data import Geonames\n",
    "# Link to the Metadata: http://www.geonames.org/export/codes.html\n",
    "\n",
    "f = open(here('./allCountries.txt'), 'r')\n",
    "content = f.read()\n",
    "print(content)\n",
    "\n",
    "filename = 'data.txt'\n",
    "  \n",
    "# dictionary where the lines from\n",
    "# text will be stored\n",
    "GeoNames = {}\n",
    "  \n",
    "# creating dictionary\n",
    "with open(filename) as fh:\n",
    "  \n",
    "    for line in fh:\n",
    "  \n",
    "        # reads each line and trims of extra the spaces \n",
    "        # and gives only the valid words\n",
    "        command, description = line.strip().split(None, 1)\n",
    "  \n",
    "        GeoNames[command] = description.strip()\n",
    "  \n",
    "# creating json file\n",
    "# the JSON file is named as test1\n",
    "out_file = open(\"test1.json\", \"w\")\n",
    "json.dump(GeoNames, out_file, indent = 4, sort_keys = False)\n",
    "out_file.close()"
   ]
  }
 ],
 "metadata": {
  "interpreter": {
   "hash": "aee8b7b246df8f9039afb4144a1f6fd8d2ca17a180786b69acc140d282b71a49"
  },
  "kernelspec": {
   "display_name": "Python 3.10.0 64-bit",
   "language": "python",
   "name": "python3"
  },
  "language_info": {
   "codemirror_mode": {
    "name": "ipython",
    "version": 3
   },
   "file_extension": ".py",
   "mimetype": "text/x-python",
   "name": "python",
   "nbconvert_exporter": "python",
   "pygments_lexer": "ipython3",
   "version": "3.8.12"
  },
  "orig_nbformat": 4
 },
 "nbformat": 4,
 "nbformat_minor": 2
}
