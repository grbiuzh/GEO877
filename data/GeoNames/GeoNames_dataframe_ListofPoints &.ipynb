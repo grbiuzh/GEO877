{
  "cells": [
    {
      "cell_type": "code",
      "execution_count": 1,
      "metadata": {
        "id": "l-d93FI3wChC"
      },
      "outputs": [],
      "source": [
        "# %pip install urllib\n",
        "import urllib.request\n",
        "import os\n",
        "import numpy as np\n",
        "import pandas as pd"
      ]
    },
    {
      "cell_type": "code",
      "execution_count": 3,
      "metadata": {
        "colab": {
          "base_uri": "https://localhost:8080/"
        },
        "id": "aoTQ5C5QwChD",
        "outputId": "475337a1-c1ed-41e8-e20d-296621f071ec"
      },
      "outputs": [
        {
          "output_type": "stream",
          "name": "stderr",
          "text": [
            "/usr/local/lib/python3.7/dist-packages/IPython/core/interactiveshell.py:2882: DtypeWarning: Columns (8,9,10,11,12,13) have mixed types.Specify dtype option on import or set low_memory=False.\n",
            "  exec(code_obj, self.user_global_ns, self.user_ns)\n"
          ]
        }
      ],
      "source": [
        "# download allCountries.zip from GeoNames\n",
        "if not os.path.exists(os.getcwd() + \"/allCountries.zip\"): # download dataset if haven't already\n",
        "  urllib.request.urlretrieve(\"https://download.geonames.org/export/dump/allCountries.zip\", \"allCountries.zip\")\n",
        "\n",
        "# extract allCountries.zip\n",
        "import zipfile\n",
        "if not os.path.exists(os.getcwd() + \"/allCountries.txt\"): # extract dataset if haven't already\n",
        "  # extract zip file to the temp cloud drive\n",
        "  with zipfile.ZipFile(os.getcwd() + \"/allCountries.zip\", 'r') as zip_ref:\n",
        "      zip_ref.extractall(os.getcwd())\n",
        "\n",
        "# formulate a string list with geoname column names\n",
        "g_headers = ['geonameid','name','asciiname','alternatenames','latitude','longitude','feature class','feature code','country code','cc2','admin1 code','admin2 code','admin3 code','admin4 code','population','elevation','dem','timezone','modification date']\n",
        "\n",
        "# load allCountries.txt\n",
        "df = pd.read_csv('allCountries.txt', header = len(g_headers), names = g_headers, sep = '\\t')"
      ]
    },
    {
      "cell_type": "code",
      "execution_count": 4,
      "metadata": {
        "colab": {
          "base_uri": "https://localhost:8080/"
        },
        "id": "AnqrUSd-wChE",
        "outputId": "48f4e9be-2e79-4fc1-9b22-e1e3b049ea4f"
      },
      "outputs": [
        {
          "output_type": "execute_result",
          "data": {
            "text/plain": [
              "12325010"
            ]
          },
          "metadata": {},
          "execution_count": 4
        }
      ],
      "source": [
        "# make a list of all the points\n",
        "lat = df.latitude.tolist()\n",
        "lon = df.longitude.tolist()\n",
        "\n",
        "geonames_points = []\n",
        "for i in range(len(df)):\n",
        "    geonames_points.append([lat[i],lon[i]])\n",
        "\n",
        "len(geonames_points)"
      ]
    },
    {
      "cell_type": "code",
      "source": [
        ""
      ],
      "metadata": {
        "id": "WEgeMp6dxL-c"
      },
      "execution_count": null,
      "outputs": []
    }
  ],
  "metadata": {
    "language_info": {
      "name": "python"
    },
    "orig_nbformat": 4,
    "colab": {
      "name": "GeoNames_all_points.ipynb",
      "provenance": [],
      "collapsed_sections": []
    },
    "kernelspec": {
      "name": "python3",
      "display_name": "Python 3"
    }
  },
  "nbformat": 4,
  "nbformat_minor": 0
}